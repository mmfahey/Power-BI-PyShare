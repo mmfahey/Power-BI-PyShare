{
 "cells": [
  {
   "cell_type": "code",
   "execution_count": 26,
   "metadata": {},
   "outputs": [],
   "source": [
    "from models import *\n",
    "from main import createURLfromFilter\n",
    "from sqlalchemy.orm import sessionmaker"
   ]
  },
  {
   "cell_type": "code",
   "execution_count": 27,
   "metadata": {},
   "outputs": [],
   "source": [
    "engine = db.create_engine(\"sqlite:///IUHreports.sqlite\")\n",
    "connection = engine.connect()\n",
    "Base.metadata.create_all(engine) #Similarly, Base.metadata.drop_all(engine)\n",
    "DBSession = sessionmaker(bind=engine)\n",
    "session = DBSession()"
   ]
  },
  {
   "cell_type": "code",
   "execution_count": 28,
   "metadata": {},
   "outputs": [],
   "source": [
    "AHC_Tracer_1 = Filter(\n",
    "    report_title = 'AHC Tracer Scorecard',\n",
    "    parent_url = \"https://app.powerbi.com/groups/me/apps/19306635-b5dd-4f76-b1ea-f64be0ef2669/reports/a51afd0f-8a83-4715-87d0-41f73fa7837a/ReportSection\",\n",
    "    table_name = 'f-Tracers',\n",
    "    column_name = 'Department',\n",
    "    filter_value = 'RH SFT 7W'\n",
    ")\n",
    "\n",
    "AHC_Tracer_2 = Filter(\n",
    "    report_title = 'AHC Tracer Scorecard',\n",
    "    parent_url = \"https://app.powerbi.com/groups/me/apps/19306635-b5dd-4f76-b1ea-f64be0ef2669/reports/a51afd0f-8a83-4715-87d0-41f73fa7837a/ReportSection\",\n",
    "    table_name = 'f-Tracers',\n",
    "    column_name = 'Tracer Name',\n",
    "    filter_value = 'Inpatient'\n",
    ")\n",
    "\n",
    "AHC_Tracer_3 = Filter(\n",
    "    report_title = 'ABC Tracer Scorecard',\n",
    "    parent_url = \"https://app.powerbi.com/groups/me/apps/19306635-b5dd-4f76-b1ea-f64be0ef2669/reports/a51afd0f-8a83-4715-87d0-41f73fa7837a/ReportSection\",\n",
    "    table_name = 'f-Tracers',\n",
    "    column_name = 'Tracer Name',\n",
    "    filter_value = 'Inpatient'\n",
    ")\n",
    "\n",
    "session.add(AHC_Tracer_1)\n",
    "session.add(AHC_Tracer_3)\n",
    "session.commit()"
   ]
  },
  {
   "cell_type": "code",
   "execution_count": 29,
   "metadata": {},
   "outputs": [],
   "source": [
    "filters = connection.execute(\"select * from Reports\").fetchall()"
   ]
  },
  {
   "cell_type": "code",
   "execution_count": 31,
   "metadata": {},
   "outputs": [],
   "source": [
    "x = connection.execute(\"select DISTINCT(report_title) from Reports\").fetchall()"
   ]
  },
  {
   "cell_type": "code",
   "execution_count": 36,
   "metadata": {},
   "outputs": [
    {
     "name": "stdout",
     "output_type": "stream",
     "text": [
      "('AHC Tracer Scorecard',) ('ABC Tracer Scorecard',)\n",
      "AHC Tracer Scorecard\n"
     ]
    }
   ],
   "source": [
    "print(*x)\n",
    "print(*x[0])"
   ]
  },
  {
   "cell_type": "code",
   "execution_count": 39,
   "metadata": {},
   "outputs": [],
   "source": [
    "tbls = connection.execute(\n",
    "            f\"select DISTINCT(column_name) from Reports where report_title = 'AHC Tracer Scorecard'\"\n",
    "        ).fetchall()"
   ]
  },
  {
   "cell_type": "code",
   "execution_count": 40,
   "metadata": {},
   "outputs": [
    {
     "data": {
      "text/plain": [
       "[('Department',), ('Tracer Name',)]"
      ]
     },
     "execution_count": 40,
     "metadata": {},
     "output_type": "execute_result"
    }
   ],
   "source": [
    "tbls"
   ]
  },
  {
   "cell_type": "code",
   "execution_count": null,
   "metadata": {},
   "outputs": [],
   "source": []
  }
 ],
 "metadata": {
  "interpreter": {
   "hash": "870dc3a393aeebe4e53b1d633638382063415f3f2e995978f8a932bf08e6390a"
  },
  "kernelspec": {
   "display_name": "Python 3.10.1 64-bit",
   "language": "python",
   "name": "python3"
  },
  "language_info": {
   "codemirror_mode": {
    "name": "ipython",
    "version": 3
   },
   "file_extension": ".py",
   "mimetype": "text/x-python",
   "name": "python",
   "nbconvert_exporter": "python",
   "pygments_lexer": "ipython3",
   "version": "3.10.1"
  },
  "orig_nbformat": 4
 },
 "nbformat": 4,
 "nbformat_minor": 2
}
